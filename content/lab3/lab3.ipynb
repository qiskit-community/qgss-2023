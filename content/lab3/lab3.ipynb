{
 "cells": [
  {
   "attachments": {},
   "cell_type": "markdown",
   "id": "abdd2993",
   "metadata": {},
   "source": [
    "# Lab 3 : Diving Into Quantum Algorithms\n",
    "***"
   ]
  },
  {
   "attachments": {},
   "cell_type": "markdown",
   "id": "b82a124a",
   "metadata": {},
   "source": [
    "## Section 1: QPE\n",
    "\n",
    "\n",
    "<img src=\"./resources/qpe_tex_qz.png\" alt=\"QPE Circuit\" style=\"width: 800px;\"/>\n",
    "\n",
    "\n",
    "As a reminder to you, the above figure outlines the Quantum Phase Estimation (QPE) circuit.  Below, we'll provide a few import statements and functions that you'll use throughout the lab."
   ]
  },
  {
   "cell_type": "code",
   "execution_count": null,
   "id": "01b08df9",
   "metadata": {},
   "outputs": [],
   "source": [
    "from qiskit import QuantumCircuit, Aer, execute\n",
    "import numpy as np\n",
    "from qiskit.visualization import plot_histogram\n",
    "import matplotlib.pyplot as plt\n",
    "from math import gcd\n",
    "\n"
   ]
  },
  {
   "cell_type": "code",
   "execution_count": null,
   "id": "3c62e5a7",
   "metadata": {},
   "outputs": [],
   "source": [
    "#QFT Circuit\n",
    "def qft(n):\n",
    "    \"\"\"Creates an n-qubit QFT circuit\"\"\"\n",
    "    circuit = QuantumCircuit(n)\n",
    "    def swap_registers(circuit, n):\n",
    "        for qubit in range(n//2):\n",
    "            circuit.swap(qubit, n-qubit-1)\n",
    "        return circuit\n",
    "    def qft_rotations(circuit, n):\n",
    "        \"\"\"Performs qft on the first n qubits in circuit (without swaps)\"\"\"\n",
    "        if n == 0:\n",
    "            return circuit\n",
    "        n -= 1\n",
    "        circuit.h(n)\n",
    "        for qubit in range(n):\n",
    "            circuit.cp(np.pi/2**(n-qubit), qubit, n)\n",
    "        qft_rotations(circuit, n)\n",
    "    \n",
    "    qft_rotations(circuit, n)\n",
    "    swap_registers(circuit, n)\n",
    "    return circuit\n",
    "\n",
    "#Inverse Quantum Fourier Transform\n",
    "def qft_dagger(qc, n):\n",
    "    \"\"\"n-qubit QFTdagger the first n qubits in circ\"\"\"\n",
    "    # Don't forget the Swaps!\n",
    "    for qubit in range(n//2):\n",
    "        qc.swap(qubit, n-qubit-1)\n",
    "    for j in range(n):\n",
    "        for m in range(j):\n",
    "            qc.cp(-np.pi/float(2**(j-m)), m, j)\n",
    "        qc.h(j)"
   ]
  },
  {
   "attachments": {},
   "cell_type": "markdown",
   "id": "206bb6b0",
   "metadata": {},
   "source": [
    "### Step 1: Set up a QPE Circuit with four counting qubits\n",
    "\n",
    "\n",
    "\n",
    "Let's pick a phase gate with $\\theta = \\frac{1}{3}$ as a simple example unitary to test creating a QPE circuit.  Here we'll use Qiskit's `PhaseGate` which applies $P|1\\rangle{}=e^{i\\lambda}|1\\rangle{}$.  Since we want to examine QPE under a unitary with the form $U|1\\rangle{}=e^{i2\\pi \\theta}$, we should set $\\lambda=\\frac{2\\pi}{3}$.\n",
    "\n",
    "Create a QPE circuit with four counting qubits and name the circuit `qpe4`.  It may be helpful to define two `QuantumRegister` objects, one for the \"system\" where the unitary will be applied and one for where the phase information will be stored.  Feel free to reference the Qiskit Textbook's chapter on [Quantum Phase Estimation](https://learn.qiskit.org/course/ch-algorithms/quantum-phase-estimation#getting_more_precision)."
   ]
  },
  {
   "attachments": {},
   "cell_type": "markdown",
   "id": "67a189c9",
   "metadata": {},
   "source": [
    "It should look something like this (note that because Qiskit uses little endian notation, the ordering of the controlled-$U$ gates are different):\n",
    "\n",
    "<img src=\"./resources/qpe4_circuit.png\" alt=\"QPE 4 Phase Circuit\" style=\"width: 1000px;\"/>\n"
   ]
  },
  {
   "cell_type": "code",
   "execution_count": null,
   "id": "cdf021ec",
   "metadata": {},
   "outputs": [],
   "source": [
    "\n",
    "phase_register_size = 4\n",
    "qpe4 = QuantumCircuit(phase_register_size+1, phase_register_size)\n",
    "\n",
    "### Insert your code here\n",
    "\n"
   ]
  },
  {
   "attachments": {},
   "cell_type": "markdown",
   "id": "21259f16",
   "metadata": {},
   "source": [
    "Now use the `AerSimulator` to simulate this circuit and plot the histogram of the results.  Use 2000 shots.\n"
   ]
  },
  {
   "cell_type": "code",
   "execution_count": null,
   "id": "f091e056",
   "metadata": {},
   "outputs": [],
   "source": [
    "## Run this cell to simulate 'qpe4' and to plot the histogram of the result\n",
    "sim = Aer.get_backend('aer_simulator')\n",
    "shots = 2000\n",
    "count_qpe4 = execute(qpe4, sim, shots=shots).result().get_counts()\n",
    "plot_histogram(count_qpe4, figsize=(9,5))"
   ]
  },
  {
   "cell_type": "code",
   "execution_count": null,
   "id": "fb998b47",
   "metadata": {},
   "outputs": [],
   "source": [
    "from qc_grader.challenges.qgss_2023 import grade_lab3_ex1 \n",
    "\n",
    "grade_lab3_ex1(count_qpe4)"
   ]
  },
  {
   "attachments": {},
   "cell_type": "markdown",
   "id": "9ca1785a",
   "metadata": {},
   "source": [
    "Next write a function to process the bit strings into the estimate of $\\theta$.  Recall that the phase estimate is written in the form:\n",
    "\n",
    "$$ \\theta = 0.\\theta_1\\theta_2\\theta_3...\\theta_t = \\frac{\\theta_1}{2^1} + \\frac{\\theta_2}{2^2} + \\frac{\\theta_3}{2^3} + ... + \\frac{\\theta_t}{2^t} $$\n",
    "\n",
    "where $\\theta_i = \\{0,1\\}$.  What is the estimated phase?  What is the highest power of 2 this circuit can be accurate up to given your choice of the number of counting qubits (e.g. $2^{-2}$, $2^{-3}$, $2^{-4}$, etc.)?\n",
    "\n"
   ]
  },
  {
   "cell_type": "code",
   "execution_count": null,
   "id": "0d427100",
   "metadata": {},
   "outputs": [],
   "source": [
    "\n",
    "#Grab the highest probability measurement\n",
    "max_binary_counts = 0\n",
    "max_binary_val = ''\n",
    "for key, item in count_qpe4.items():\n",
    "    if item > max_binary_counts:\n",
    "        max_binary_counts = item\n",
    "        max_binary_val = key\n",
    "\n",
    "## Your function to convert a binary string to decimal goes here\n",
    "\n",
    "\n",
    "\n",
    "estimated_phase = # calculate the estimated phase\n",
    "phase_accuracy_window = # highest power of 2 (i.e. smallest decimal) this circuit can estimate\n",
    "\n"
   ]
  },
  {
   "cell_type": "code",
   "execution_count": null,
   "id": "732d9625",
   "metadata": {},
   "outputs": [],
   "source": [
    "\n",
    "from qc_grader.challenges.qgss_2023 import grade_lab3_ex2 \n",
    "\n",
    "grade_lab3_ex2([estimated_phase, phase_accuracy_window])"
   ]
  },
  {
   "attachments": {},
   "cell_type": "markdown",
   "id": "3820b0e3",
   "metadata": {},
   "source": [
    "## Step 2: Run on Noisy Hardware\n",
    "\n",
    "Now run this circuit using your favorite backend!  Transpile this circuit a number of times (you pick how many) and pick the one with the lowest and highest circuit depth. \n",
    "\n",
    "Transpile the circuit with the parameter optimization_level = 3 to reduce the error in the result. Qiskit by default uses a stochastic swap mapper to place the needed SWAP gates, which varies the transpiled circuit results even under the same runtime settings. Therefore, to achieve shorter depth transpiled circuit for smaller error in the outcome, transpile qpe4 multiple times and choose one with the minimum circuit depth. Select the maximum circuit depth one as well to compare against, name them `min_depth_qpe` and `max_depth_qpe`.\n",
    "\n"
   ]
  },
  {
   "cell_type": "code",
   "execution_count": null,
   "id": "8297c6da",
   "metadata": {},
   "outputs": [],
   "source": [
    "from qiskit_ibm_provider import IBMProvider\n",
    "from qiskit.compiler import transpile\n",
    "\n",
    "\n",
    "provider = IBMProvider()\n",
    "hub = \"YOUR_HUB\"\n",
    "group = \"YOUR_GROUP\"\n",
    "project = \"YOUR_PROJECT\"\n",
    "backend_name = \"YOUR_BACKEND\"\n",
    "\n",
    "backend = provider.get_backend(backend_name, instance=f\"{hub}/{group}/{project}\")\n",
    "\n",
    "# your code goes here\n",
    "\n"
   ]
  },
  {
   "cell_type": "code",
   "execution_count": null,
   "id": "7b389bc6",
   "metadata": {},
   "outputs": [],
   "source": [
    "from qc_grader.challenges.qgss_2023 import grade_lab3_ex3\n",
    "\n",
    "grade_lab3_ex3([max_depth_qpe, min_depth_qpe])"
   ]
  },
  {
   "cell_type": "code",
   "execution_count": null,
   "id": "5adcd092",
   "metadata": {},
   "outputs": [],
   "source": [
    "shots = 2000\n",
    "\n",
    "#OPTIONAL: Run the minimum depth qpe circuit\n",
    "job_min_qpe4 = backend.run(min_depth_qpe, sim, shots=shots)\n",
    "print(job_min_qpe4.job_id())\n",
    "\n",
    "#Gather the count data\n",
    "count_min_qpe4 = job_min_qpe4.result().get_counts()\n",
    "plot_histogram(count_min_qpe4, figsize=(9,5))"
   ]
  },
  {
   "cell_type": "code",
   "execution_count": null,
   "id": "a05d8270",
   "metadata": {},
   "outputs": [],
   "source": [
    "\n",
    "#OPTIONAL: Run the maximum depth qpe circuit\n",
    "job_max_qpe4 = backend.run(max_depth_qpe, sim, shots=shots)\n",
    "print(job_max_qpe4.job_id())\n",
    "\n",
    "#Gather the count data\n",
    "count_max_qpe4 = job_max_qpe4.result().get_counts()\n",
    "plot_histogram(count_max_qpe4, figsize=(9,5))"
   ]
  },
  {
   "attachments": {},
   "cell_type": "markdown",
   "id": "3b2b49a6",
   "metadata": {},
   "source": [
    "## Step 3: Try with a different $\\theta$\n",
    "\n",
    "Now try the same procedure with $\\theta = \\frac{1}{7}$.  Rewrite your code written above to create a function which generates a QPE circuit with $n$ register qubits.  How many register qubits storing the phase information are needed for the estimate to be accurate to within $2^{-6}$? \n",
    "\n",
    "*Hint: It may be easier to iterate over different phase register sizes by creating a callable function. Perhaps call it* `qpe_circuit`"
   ]
  },
  {
   "cell_type": "code",
   "execution_count": null,
   "id": "b121893f",
   "metadata": {},
   "outputs": [],
   "source": [
    "\n",
    "\n",
    "def qpe_circuit(register_size):\n",
    "    # Your code goes here\n",
    "    \n",
    "    return qpe\n",
    "    \n",
    "\n"
   ]
  },
  {
   "cell_type": "code",
   "execution_count": null,
   "id": "42ec48b0",
   "metadata": {},
   "outputs": [],
   "source": [
    "## Run this cell to simulate 'qpe4' and to plot the histogram of the result\n",
    "reg_size = # Vary the register sizes\n",
    "\n",
    "qpe_check = qpe_circuit(reg_size)\n",
    "sim =  Aer.get_backend('aer_simulator')\n",
    "shots = 10000\n",
    "count_qpe4 = execute(qpe_check, sim, shots=shots).result().get_counts()\n",
    "plot_histogram(count_qpe4, figsize=(9,5))"
   ]
  },
  {
   "cell_type": "code",
   "execution_count": null,
   "id": "d1cfe002",
   "metadata": {},
   "outputs": [],
   "source": [
    "\n",
    "\n",
    "# Process the count data to determine accuracy of the estimated phase\n",
    "\n",
    "\n",
    "\n"
   ]
  },
  {
   "cell_type": "code",
   "execution_count": null,
   "id": "190454a7",
   "metadata": {},
   "outputs": [],
   "source": [
    "required_register_size = #your answer here"
   ]
  },
  {
   "cell_type": "code",
   "execution_count": null,
   "id": "c08ac980",
   "metadata": {},
   "outputs": [],
   "source": [
    "from qc_grader.challenges.qgss_2023 import grade_lab3_ex4\n",
    "\n",
    "grade_lab3_ex4(required_register_size)"
   ]
  },
  {
   "attachments": {},
   "cell_type": "markdown",
   "id": "0a450574",
   "metadata": {},
   "source": [
    "## Section 2: Shor's Algorithm\n",
    "***\n",
    "\n",
    "Here we will construct a set of functions to implement Shor's algorithm.  Remember that the goal of this algorithm is to find the prime factors of some large number $N$ and the key speedup this algorithm provides is by executing the period-finding part using a quantum computer.  This is where this section of the lab will focus.\n",
    "\n",
    "\n",
    "Shor's algorithm is composed of the following steps:\n",
    "1. Choose a co-prime $a$, where $a\\in [2,N-1]$ and the greatest common divisor of $a$ and $N$ is 1.\n",
    "1. Find the order (periodicity) of $a$ modulo $N$, i.e. the smallest integer $r$ such that $a^r\\text{mod} N=1$\n",
    "1. Obtain the factor of $N$ by computing the greatest common divisor of $a^{r/2} \\pm 1$ and $N$."
   ]
  },
  {
   "attachments": {},
   "cell_type": "markdown",
   "id": "818edadf",
   "metadata": {},
   "source": [
    "## Step 1. Period Finding\n",
    "\n",
    "To begin, we'll use the unitary operator: $$ U|y\\rangle{} \\equiv |ay\\ \\text{mod} N\\rangle{} $$\n",
    "\n",
    "\n",
    "and explore the superposition state: \n",
    "$$\n",
    "|u\\rangle{} = \\frac{1}{\\sqrt{r}}\\sum_{k=0}^{r-1} e^{-\\frac{2\\pi ik}{r}}|a^k \\text{mod}N\\rangle{}\n",
    "$$\n",
    "\n",
    "Let's pick $a=3$ and $N=35$ as an example and investigate what the action of $U$ is on $|u\\rangle{}$\n",
    "\\begin{align}\n",
    "    U|u\\rangle{} &= U\\frac{1}{\\sqrt{r}}\\left( |1\\rangle{} + e^{-\\frac{2\\pi i}{r}}|3\\rangle{} + e^{\\frac{-4\\pi i}{r}}|9\\rangle{} + ... + e^{\\frac{-20\\pi i}{r}}|4\\rangle{} + e^{\\frac{-22\\pi i}{r}}|12\\rangle{} \\right) \\\\\n",
    "    & =\\frac{1}{\\sqrt{r}}\\left( U|1\\rangle{} + e^{-\\frac{2\\pi i}{r}}U|3\\rangle{} + e^{\\frac{-4\\pi i}{r}}U|9\\rangle{} + ... + e^{\\frac{-20\\pi i}{r}}U|4\\rangle{} + e^{\\frac{-22\\pi i}{r}}U|12\\rangle{} \\right) \\\\\n",
    "    &= \\frac{1}{\\sqrt{r}}\\left( |3\\rangle{} + e^{-\\frac{2\\pi i}{r}}|9\\rangle{} + e^{\\frac{-4\\pi i}{r}}|27\\rangle{} + ... + e^{\\frac{-20\\pi i}{r}}|12\\rangle{} + e^{\\frac{-22\\pi i}{r}}|1\\rangle{} \\right) \\\\\n",
    "    &= \\frac{e^{\\frac{2\\pi i}{r}}}{\\sqrt{r}}\\left( e^{-\\frac{2\\pi i}{r}}|3\\rangle{} + e^{\\frac{-4\\pi i}{r}}|9\\rangle{} + ... + e^{\\frac{-20\\pi i}{r}}|4\\rangle{} + e^{\\frac{-22\\pi i}{r}}|12\\rangle{} + |1\\rangle{} \\right) \\\\\n",
    "    &= \\frac{e^{\\frac{2\\pi i}{r}}}{\\sqrt{r}} |u\\rangle{}.\n",
    "\\end{align}\n",
    "\n",
    "\n",
    "This is a particularly helpful eigenvalue as it contains $r$.  In fact, it needs to be included in order to ensure the phase differences between the basis states are equal.  This is also not the only eigenstate of $U$.  For us to generalize further, we can multiply an integer $s$ to each of these phases, which will then show up in our eigenvalue\n",
    "\n",
    "\\begin{align}\n",
    "    |u_s\\rangle{} &= \\frac{1}{\\sqrt{r}}\\sum_{k=0}^{r-1} e^{\\frac{-2\\pi isk}{r}|a^k\\text{mod} N\\rangle{}} \\\\\n",
    "    U|u_s\\rangle{} &= e^{\\frac{2\\pi is}{r}}|u_s\\rangle{}.\n",
    "\\end{align}\n",
    "\n",
    "\n",
    "Now we have an eigenstate for each integer $0 \\leq s \\leq r$.  Notably, if we add up all of these eigenstates, the phases cancel all other basis states except $|1\\rangle{}$ $$ \\frac{1}{\\sqrt{r}} \\sum_{s=0}^{r-1}|u_s\\rangle{} = |1\\rangle{} $$.\n",
    "\n",
    "\n",
    "Since any state in the computational basis can be written as a linear combination of these eigenstates, if we do QPE on $U$ using the state $|1\\rangle{}$, we will measure a phase \n",
    "\n",
    "$$ \\phi = \\frac{s}{r} $$\n",
    "where $s$ is a random integer between $0$ and $r-1$.  Finally, we can use a method called the continued fraction algorithm on $\\phi$ in order to find r.  The final circuit will look something like this\n"
   ]
  },
  {
   "attachments": {},
   "cell_type": "markdown",
   "id": "03df2e95",
   "metadata": {},
   "source": [
    "\n",
    "<img src=\"./resources/Shor_circuit.png\" alt=\"Short Circuit\" style=\"width: 1000px;\"/>\n",
    "\n",
    "\n",
    "***\n",
    "\n",
    "Below we'll provide the unitary $U$ needed for solving this period finding problem with $a=7$ and $N=15$\n",
    "\n",
    "$$ \n",
    "    U|y\\rangle{} = |7y\\text{mod}15\\rangle{}.\n",
    "$$\n",
    "\n",
    "To create $U^x$ we will simply repeat the circuit $x$ times.  The cell below will construct this unitary"
   ]
  },
  {
   "cell_type": "code",
   "execution_count": null,
   "id": "f44d5c01",
   "metadata": {},
   "outputs": [],
   "source": [
    "## Create 7mod15 gate\n",
    "N = 15\n",
    "m = int(np.ceil(np.log2(N)))\n",
    "\n",
    "U_qc = QuantumCircuit(m)\n",
    "U_qc.x(range(m))\n",
    "U_qc.swap(1, 2)\n",
    "U_qc.swap(2, 3)\n",
    "U_qc.swap(0, 3)\n",
    "\n",
    "U = U_qc.to_gate()\n",
    "U.name ='{}Mod{}'.format(7, N)"
   ]
  },
  {
   "attachments": {},
   "cell_type": "markdown",
   "id": "755e83e3",
   "metadata": {},
   "source": [
    "Confirm if the operator $U$ works as intended by creating a quantum circuit with $m=4$ qubits.  Prepare the inpute state $|y\\rangle{}$ representing any integer between $0$ and $15$ (remembering that Qiskit uses little endian notation) such as $|1\\rangle{} = |0001\\rangle{}$, $|5\\rangle{} = |0101\\rangle{}$, etc. and apply $U|y\\rangle{}$.  Check if the circuit produces the expected outcomes for several inputs: $|1\\rangle{}$, $|2\\rangle{}$, and $|5\\rangle{}$. (For example, the outcome for input state $|2\\rangle{}$ should be $|14\\rangle{}=|1110\\rangle{}$)  \n",
    "\n",
    "Run these circuits through the `aer_simulator` backend with $20000$ shots, save the count data as `input_1`, `input_3`, and `input_5`."
   ]
  },
  {
   "cell_type": "code",
   "execution_count": null,
   "id": "2413af6c",
   "metadata": {},
   "outputs": [],
   "source": [
    "### your code goes here\n",
    "\n",
    "qcirc = QuantumCircuit(m)\n",
    "\n",
    "\n"
   ]
  },
  {
   "cell_type": "code",
   "execution_count": null,
   "id": "64292ddb",
   "metadata": {},
   "outputs": [],
   "source": [
    "## Run this cell to simulate 'qpe4' and to plot the histogram of the result\n",
    "sim = Aer.get_backend('aer_simulator')\n",
    "shots = 20000\n",
    "\n",
    "input_1 = execute(qcirc, sim, shots=shots).result().get_counts()  # save the count data for input 1\n",
    "\n",
    "input_2 = # save the count data for input 3\n",
    "input_5 = # save the count data for input 5\n"
   ]
  },
  {
   "cell_type": "code",
   "execution_count": null,
   "id": "fc5f5437",
   "metadata": {},
   "outputs": [],
   "source": [
    "from qc_grader.challenges.qgss_2023 import grade_lab3_ex5\n",
    "\n",
    "grade_lab3_ex5([input_1, input_2, input_5])"
   ]
  },
  {
   "attachments": {},
   "cell_type": "markdown",
   "id": "c0b545ec",
   "metadata": {},
   "source": [
    "## Step 2. Implementing $U^{2^{m-1}}$\n",
    "\n",
    "Now we'll use this controlled-$U$ to estimate the phase $\\phi=\\frac{s}{r}$.  But first, a quick point to note here.  It turns out a sequence of `7Mod15` gates produce the identity when executed by a multiple of 4 times.  To test this, create a quantum circuit implementing the `7mod15` gate $2^2$ times and run it on the `unitary_simulator` backend to obtain the matrix represenation of the gates in the circuit.  Verify $U^{2^2}=I$."
   ]
  },
  {
   "cell_type": "code",
   "execution_count": null,
   "id": "28ef3fd2",
   "metadata": {},
   "outputs": [],
   "source": [
    "\n",
    "unitary_circ = QuantumCircuit(m)\n",
    "\n",
    "# Your code goes here\n",
    "\n"
   ]
  },
  {
   "cell_type": "code",
   "execution_count": null,
   "id": "5ba2ce23",
   "metadata": {},
   "outputs": [],
   "source": [
    "sim = Aer.get_backend('unitary_simulator')\n",
    "unitary = execute(unitary_circ, sim).result().get_unitary()"
   ]
  },
  {
   "cell_type": "code",
   "execution_count": null,
   "id": "fef158df",
   "metadata": {},
   "outputs": [],
   "source": [
    "from qc_grader.challenges.qgss_2023 import grade_lab3_ex6\n",
    "\n",
    "grade_lab3_ex6(unitary, unitary_circ)"
   ]
  },
  {
   "attachments": {},
   "cell_type": "markdown",
   "id": "b80f494e",
   "metadata": {},
   "source": [
    "## Step 3. Finding $\\phi$ and Continued Fractions\n",
    "\n",
    "\n",
    "Now armed with a way to execute $U^{2^{m-1}}$, let's use it in the QPE circuit you created earlier.  Below is a function to construct a controlled-$U$ gate. Use $8$ qubits for the phase register and 4 qubits for the register which $U$ will act on, using the `aer_simulator` again, estimate the phase $\\phi$ given an input state of $|1\\rangle{}$.\n",
    "\n",
    "*Hint: at each step in the QPE circuit, you'll need to construct a new `cU_multi` circuit and append it to the QPE circuit. There will be several estimates that have approximately equal probability.*"
   ]
  },
  {
   "cell_type": "code",
   "execution_count": null,
   "id": "71b9775b",
   "metadata": {},
   "outputs": [],
   "source": [
    "#This function will return a ControlledGate object which repeats the action\n",
    "# of U, 2^k times\n",
    "def cU_multi(k):\n",
    "    sys_register_size = 4\n",
    "    circ = QuantumCircuit(sys_register_size)\n",
    "    for _ in range(2**k):\n",
    "        circ.append(U, range(sys_register_size))\n",
    "    \n",
    "    U_multi = circ.to_gate()\n",
    "    U_multi.name = '7Mod15_[2^{}]'.format(k)\n",
    "    \n",
    "    cU_multi = U_multi.control()\n",
    "    return cU_multi"
   ]
  },
  {
   "cell_type": "code",
   "execution_count": null,
   "id": "8f0f482f",
   "metadata": {},
   "outputs": [],
   "source": [
    "# your code goes here\n",
    "\n",
    "shor_qpe = #Create the QuantumCircuit needed to run with 8 phase register qubits\n"
   ]
  },
  {
   "cell_type": "code",
   "execution_count": null,
   "id": "f25f9d0b",
   "metadata": {},
   "outputs": [],
   "source": [
    "## Run this cell to simulate 'shor_qpe' and to plot the histogram of the results\n",
    "sim = Aer.get_backend('aer_simulator')\n",
    "shots = 20000\n",
    "shor_qpe_counts = execute(shor_qpe, sim, shots=shots).result().get_counts()\n",
    "plot_histogram(shor_qpe_counts, figsize=(9,5))"
   ]
  },
  {
   "cell_type": "code",
   "execution_count": null,
   "id": "20888bbf",
   "metadata": {},
   "outputs": [],
   "source": [
    "from qc_grader.challenges.qgss_2023 import grade_lab3_ex7\n",
    "\n",
    "grade_lab3_ex7(shor_qpe_counts)"
   ]
  },
  {
   "attachments": {},
   "cell_type": "markdown",
   "id": "94c8b2c0",
   "metadata": {},
   "source": [
    "We can then find the integers $s$ and $r$ using the continued fractions algorithm.  Luckily python has built-in functionality for this using the `Fraction` function, where we will limit the denominator to $r<15$.  Use this to find the estimated $s$ and $r$ for each outcome you measured above."
   ]
  },
  {
   "cell_type": "code",
   "execution_count": null,
   "id": "fc619b09",
   "metadata": {},
   "outputs": [],
   "source": [
    "from fractions import Fraction\n",
    "print(Fraction(0.666), '\\n')\n",
    "print(Fraction(0.666).limit_denominator(15))"
   ]
  },
  {
   "cell_type": "code",
   "execution_count": null,
   "id": "0cd183a8",
   "metadata": {},
   "outputs": [],
   "source": [
    "\n",
    "shor_qpe_fractions = # create a list of Fraction objects for each measurement outcome\n"
   ]
  },
  {
   "cell_type": "code",
   "execution_count": null,
   "id": "64f3ab41",
   "metadata": {},
   "outputs": [],
   "source": [
    "from qc_grader.challenges.qgss_2023 import grade_lab3_ex8\n",
    "\n",
    "grade_lab3_ex8(shor_qpe_fractions)"
   ]
  },
  {
   "attachments": {},
   "cell_type": "markdown",
   "id": "7be59ad2",
   "metadata": {},
   "source": [
    "## Step 4. Putting it all together\n",
    "\n",
    "Now let's put all of these steps together in order to factor the (very simple) number,  $N = 15$.  We'll continue with our example of $a=7$, remember that the phase we measure $s/r$ where $s$ is a random integer between $0$ and $r-1$ and:\n",
    "\n",
    "$$\n",
    "    a^r\\text{mod}N = 1\n",
    "$$\n",
    "\n",
    "Then, once we have $r$, we can find a factor of $N$ by:\n",
    "\n",
    "$$\n",
    "    \\left(a^r-1\\right)\\text{mod} N = 0\n",
    "$$\n",
    "which requires that $N$ must divide by $a^r-1$.  If $r$ is even, we can also write\n",
    "\n",
    "$$\n",
    "    a^r-1 = \\left(a^{r/2}+1\\right)\\left(a^{r/2}-1\\right).\n",
    "$$\n",
    "\n",
    "Put together a function called `shor_qpe` which takes an argument for $k$ (the number of counting qubits) and composes, runs, and processes Shor's algorithm to guess the factors.  Use an input state of $|y\\rangle{}=|1\\rangle{}$ for the phase estimation. (Note: The function `cU_multi()` only executes $|ay\\ \\text{mod}\\ 15\\rangle{}$ for $a=7$)"
   ]
  },
  {
   "cell_type": "code",
   "execution_count": null,
   "id": "5be23ac1",
   "metadata": {},
   "outputs": [],
   "source": [
    "def shor_qpe(k):\n",
    "\n",
    "    a = 7\n",
    "    #Step 1. Begin a while loop until a nontrivial guess is found\n",
    "    ### Your code goes here ###\n",
    "\n",
    "\n",
    "        #Step 2a. Construct a QPE circuit with m phase count qubits\n",
    "        #  to guess the phase phi = s/r using the function cU_multi()\n",
    "        ### Your code goes here ###\n",
    "\n",
    "\n",
    "        #Step 2b. Run the QPE circuit with a single shot, record the results\n",
    "        # and convert the estimated phase bitstring to decimal\n",
    "        ### Your code goes here ###\n",
    "\n",
    "\n",
    "        #Step 3. Use the Fraction object to find the guess for r\n",
    "        ### Your code goes here ###\n",
    "\n",
    "\n",
    "        #Step 4. Now that r has been found, use the builtin greatest common deonominator\n",
    "        # function to determine the guesses for a factor of N\n",
    "        guesses = [gcd(a**(r//2)-1, N), gcd(a**(r//2)+1, N)]\n",
    "\n",
    "        #Step 5. For each guess in guesses, check if at least one is a non-trivial factor\n",
    "        # i.e.  (guess != 1 or N) and (N % guess == 0)\n",
    "        ### Your code goes here ###\n",
    "    \n",
    "    #Step 6. If a nontrivial factor is found return the list 'guesses', otherwise\n",
    "    # continue the while loop\n",
    "    ### Your code goes here ###\n",
    "    \n",
    "    return guesses"
   ]
  },
  {
   "cell_type": "code",
   "execution_count": null,
   "id": "03a369ba",
   "metadata": {},
   "outputs": [],
   "source": [
    "from qc_grader.challenges.qgss_2023 import grade_lab3_ex9\n",
    "\n",
    "grade_lab3_ex9(shor_qpe)"
   ]
  },
  {
   "attachments": {},
   "cell_type": "markdown",
   "id": "6a1e61fd",
   "metadata": {},
   "source": [
    "Congratulations! You've completed Lab 3 of the Global Summer School!! 🎉\n",
    "\n",
    "This lab was adapted from both the [Qiskit QPE Lab](https://learn.qiskit.org/course/ch-labs/lab-5-accuracy-of-quantum-phase-estimation#lab-3-0) as well as the [Qiskit Shor's Algorithm](https://learn.qiskit.org/course/ch-labs/lab-7-scalable-shors-algorithm) lab"
   ]
  }
 ],
 "metadata": {
  "kernelspec": {
   "display_name": "Python 3 (ipykernel)",
   "language": "python",
   "name": "python3"
  },
  "language_info": {
   "codemirror_mode": {
    "name": "ipython",
    "version": 3
   },
   "file_extension": ".py",
   "mimetype": "text/x-python",
   "name": "python",
   "nbconvert_exporter": "python",
   "pygments_lexer": "ipython3",
   "version": "3.11.3"
  },
  "toc": {
   "base_numbering": 1,
   "nav_menu": {},
   "number_sections": true,
   "sideBar": true,
   "skip_h1_title": false,
   "title_cell": "Table of Contents",
   "title_sidebar": "Contents",
   "toc_cell": false,
   "toc_position": {},
   "toc_section_display": true,
   "toc_window_display": false
  }
 },
 "nbformat": 4,
 "nbformat_minor": 5
}
